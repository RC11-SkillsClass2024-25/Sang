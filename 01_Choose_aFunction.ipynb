{
 "cells": [
  {
   "cell_type": "code",
   "execution_count": 11,
   "id": "2d016224-f82c-4198-b878-891c2ae4b095",
   "metadata": {},
   "outputs": [],
   "source": [
    "import pickle\n",
    "with open('processed_text.pkl', 'rb') as file:\n",
    "    processed_docs = pickle.load(file)\n",
    "\n",
    "with open(\"paras.pkl\", \"rb\") as file:  # \"rb\" 表示以二进制读取模式打开文件\n",
    "    loaded_paras = pickle.load(file)"
   ]
  },
  {
   "cell_type": "code",
   "execution_count": 12,
   "id": "a38379dc-3bf7-46e4-be97-7bbb1af08f3e",
   "metadata": {},
   "outputs": [
    {
     "name": "stderr",
     "output_type": "stream",
     "text": [
      "[nltk_data] Downloading package words to\n",
      "[nltk_data]     C:\\Users\\sangz\\AppData\\Roaming\\nltk_data...\n",
      "[nltk_data]   Package words is already up-to-date!\n",
      "[nltk_data] Downloading package stopwords to\n",
      "[nltk_data]     C:\\Users\\sangz\\AppData\\Roaming\\nltk_data...\n",
      "[nltk_data]   Package stopwords is already up-to-date!\n",
      "[nltk_data] Downloading package wordnet to\n",
      "[nltk_data]     C:\\Users\\sangz\\AppData\\Roaming\\nltk_data...\n",
      "[nltk_data]   Package wordnet is already up-to-date!\n",
      "[nltk_data] Downloading package punkt to\n",
      "[nltk_data]     C:\\Users\\sangz\\AppData\\Roaming\\nltk_data...\n",
      "[nltk_data]   Package punkt is already up-to-date!\n"
     ]
    }
   ],
   "source": [
    "from sklearn.feature_extraction.text import TfidfVectorizer\n",
    "\n",
    "# 导入自然语言处理工具包\n",
    "import nltk\n",
    "from nltk.stem import PorterStemmer  # 导入词干提取器\n",
    "from nltk.stem import WordNetLemmatizer  # 导入词形还原工具\n",
    "from nltk.corpus import words, stopwords, names  # 导入单词、停用词和名称库\n",
    "\n",
    "# 下载相关数据集（如未安装）\n",
    "nltk.download('words')\n",
    "nltk.download('stopwords')\n",
    "nltk.download('wordnet')\n",
    "nltk.download('punkt')\n",
    "\n",
    "import numpy as np\n",
    "from sklearn.decomposition import TruncatedSVD\n",
    "from sklearn.metrics.pairwise import cosine_similarity\n",
    "\n",
    "from gensim.models import Word2Vec  # 导入 Word2Vec 模型\n",
    "from nltk.tokenize import word_tokenize  # 导入分词工具"
   ]
  },
  {
   "cell_type": "code",
   "execution_count": 13,
   "id": "a052168f-b098-4f01-be46-333344d135fe",
   "metadata": {},
   "outputs": [],
   "source": [
    "from FlagEmbedding import FlagModel"
   ]
  },
  {
   "cell_type": "code",
   "execution_count": 14,
   "id": "acd3aacd-90a0-4be7-be98-a4736ff6a7b3",
   "metadata": {},
   "outputs": [],
   "source": [
    "from processingfunction import preprocess_paragraphs\n",
    "from vectorizefunctionses import generate_tfidf_matrix\n",
    "from vectorizefunctionses import get_top_similar_texts\n",
    "from vectorizefunctionses import find_most_similar_document_with_reduction\n",
    "from vectorizefunctionses import process_word2vec_model\n",
    "from vectorizefunctionses import find_most_relevant_paragraph"
   ]
  },
  {
   "cell_type": "code",
   "execution_count": 16,
   "id": "7c849c63-0c7c-4a48-aab3-07a444e8f5e0",
   "metadata": {},
   "outputs": [],
   "source": [
    "def choose_and_call_function():\n",
    "    \"\"\"\n",
    "    允许用户手动选择调用哪个函数，并动态传入参数。\n",
    "\n",
    "    用户可以通过输入函数名称和对应参数来调用特定的函数。\n",
    "    \"\"\"\n",
    "\n",
    "    # 提供可供选择的函数列表\n",
    "    print(\"Function List: \")\n",
    "    print(\"1. get_top_similar_texts by tfidf\")  # TF-IDF 检索相关文本的函数\n",
    "    print(\"2. find_most_similar_document_with_reduction by SVD\")  # SVD\n",
    "    print(\"3. process_word2vec_model\")  # Word2Vec 处理词向量的函数\n",
    "    print(\"4. find_most_relevant_paragraph by FlagEmbedding\")  # FlagEmbedding 查找相关段落的函数\n",
    "\n",
    "    # 用户输入选择\n",
    "    choice = input(\"Choose a function: \")\n",
    "\n",
    "    # 根据选择动态调用对应的函数\n",
    "    if choice == \"get_top_similar_texts by tfidf\":\n",
    "       # 初始化 TF-IDF 向量化器\n",
    "       vectorizer = TfidfVectorizer()\n",
    "       tfidf_matrix = vectorizer.fit_transform([doc[\"paragraph\"].lower() for doc in loaded_paras])\n",
    "\n",
    "       # 调用函数\n",
    "       query = input(\"query: \")\n",
    "       results, top_terms, query_vector = get_top_similar_texts(query, vectorizer, tfidf_matrix, loaded_paras, top_n=10, top_terms_n=20)\n",
    "\n",
    "       # 打印结果\n",
    "       print(\"Top Terms:\")\n",
    "       print(\", \".join(top_terms))  # 打印 top terms 列表\n",
    "\n",
    "       print(\"\\nTop Similar Documents:\")\n",
    "       for result in results:\n",
    "           print(f\"Rank {result['rank']}: Document Index: {result['index']}, Similarity Score: {result['score']}\")\n",
    "           print(f\"Text: {result['text']}\")\n",
    "           print(\"-\" * 50)\n",
    "\n",
    "    elif choice == \"find_most_similar_document_with_reduction by SVD\":\n",
    "        # 初始化 TF-IDF 向量化器\n",
    "        vectorizer = TfidfVectorizer()\n",
    "        tfidf_matrix = vectorizer.fit_transform([doc[\"paragraph\"].lower() for doc in loaded_paras])\n",
    "\n",
    "        # 调用函数\n",
    "        query = input(\"query: \")\n",
    "        results, top_terms, query_vector = get_top_similar_texts(query, vectorizer, tfidf_matrix, loaded_paras, top_n=10, top_terms_n=20)\n",
    "\n",
    "        # 调用函数\n",
    "        nearest_neighbor_index, similarity_score, nearest_document = find_most_similar_document_with_reduction(\n",
    "            tfidf_matrix=tfidf_matrix,\n",
    "            query_vector=query_vector,\n",
    "            loaded_paras=loaded_paras,\n",
    "            n_components=100\n",
    "        )\n",
    "\n",
    "        # 打印结果\n",
    "        print(f\"Most similar document index: {nearest_neighbor_index}, Similarity: {similarity_score}\")\n",
    "        print(\"Most similar document content:\")\n",
    "        print(nearest_document)\n",
    "\n",
    "    elif choice == \"process_word2vec_model\":\n",
    "        # 目标词\n",
    "        target_word = input(\"query: \")\n",
    "\n",
    "        # 调用函数\n",
    "        result = process_word2vec_model(loaded_paras, target_word)\n",
    "\n",
    "        # 打印结果\n",
    "        if 'error' in result:\n",
    "            print(result['error'])\n",
    "        else:\n",
    "            print(f\"Vector of '{target_word}': {result['word_vector']}\")\n",
    "            print(f\"Most similar to '{target_word}': {result['similar_words']}\")\n",
    "\n",
    "    elif choice == \"find_most_relevant_paragraph by FlagEmbedding\":\n",
    "        # 示例使用\n",
    "        query = input(\"query: \")\n",
    "        result = find_most_relevant_paragraph(query, loaded_paras)\n",
    "\n",
    "        print(f\"Most relevant paragraph index: {result['index']}\")\n",
    "        print(f\"Most relevant paragraph: {result['paragraph']}\")\n",
    "\n",
    "    else:\n",
    "        print(\"Invalid selection!\")"
   ]
  },
  {
   "cell_type": "code",
   "execution_count": 10,
   "id": "f2454135-c86f-497b-9102-0b0fbcf235c8",
   "metadata": {},
   "outputs": [
    {
     "name": "stdout",
     "output_type": "stream",
     "text": [
      "Function List: \n",
      "1. get_top_similar_texts by tfidf\n",
      "2. find_most_similar_document_with_reduction by SVD\n",
      "3. process_word2vec_model\n",
      "4. find_most_relevant_paragraph by FlagEmbedding\n"
     ]
    },
    {
     "name": "stdin",
     "output_type": "stream",
     "text": [
      "Choose a function:  get_top_similar_texts by tfidf\n",
      "query:  second-hand fashion\n"
     ]
    },
    {
     "name": "stdout",
     "output_type": "stream",
     "text": [
      "Top Terms:\n",
      "second, hand, shopping, online, products, luxury, utilize, amp, guiot, acquisition, roux, motivations, buying, distinct, defined, exchange, methods, theory, appropriate, context\n",
      "\n",
      "Top Similar Documents:\n",
      "Rank 1: Document Index: 12328, Similarity Score: 0.5031925628516417\n",
      "Text: {'paragraph': ' Thus, U&amp;G theory is appropriate to utilize in the context of online second-hand luxury shopping. 2.3. Motivations for buying online second-hand luxury fashion products Second-hand shopping is defined as “the acquisition of second-hand objects through methods and places of exchange that are generally distinct from those for new products” (Guiot &amp; Roux, 2010, p.', 'nr': 52, 'bookID': 0}\n",
      "--------------------------------------------------\n",
      "Rank 2: Document Index: 12359, Similarity Score: 0.4980036695638522\n",
      "Text: {'paragraph': ' Guiot and Roux (2010) found that second-hand consumers value fashion authenticity and vintage uniqueness. Ferraro et al. (2016) found that fashionability plays a significant role in second-hand consumption, and consumers who are conscious about fashion view second-hand clothing as authentic and unique.', 'nr': 83, 'bookID': 0}\n",
      "--------------------------------------------------\n",
      "Rank 3: Document Index: 12278, Similarity Score: 0.4857751519442475\n",
      "Text: {'paragraph': ' Many luxury fashion retailers have been pursuing ways to get involved in the second-hand goods market. However, little is known about what drives consumers to shop at online second-hand luxury fashion stores.', 'nr': 2, 'bookID': 0}\n",
      "--------------------------------------------------\n",
      "Rank 4: Document Index: 12294, Similarity Score: 0.47318531399679264\n",
      "Text: {'paragraph': ' However, Stolz (2022) did not focus on online shopping for second-hand luxury fashion products. Due to the growth of the online second-hand luxury fashion market, further empirical investigation is needed to reveal young adult consumers’ motivational factors for recommending and purchasing second-hand luxury fashion products through online channels.', 'nr': 18, 'bookID': 0}\n",
      "--------------------------------------------------\n",
      "Rank 5: Document Index: 12330, Similarity Score: 0.46676079126751724\n",
      "Text: {'paragraph': 'e. hedonic motivation), and need for a unique fashion style (i.e. fashion motivation). These studies focused on non-luxury second-hand fashion products. A few studies interviewed consumers to uncover their motivations for purchasing second-hand luxury fashion products (i.', 'nr': 54, 'bookID': 0}\n",
      "--------------------------------------------------\n",
      "Rank 6: Document Index: 12386, Similarity Score: 0.4367682872078624\n",
      "Text: {'paragraph': ' This ensured that participants’ responses reflected their experiences of purchasing second-hand luxury fashion products. Next, participants were asked whether they have purchased and/or owned second-hand luxury fashion products.', 'nr': 110, 'bookID': 0}\n",
      "--------------------------------------------------\n",
      "Rank 7: Document Index: 12440, Similarity Score: 0.4256175696711077\n",
      "Text: {'paragraph': ' Whereas fashion consciousness heavily influences perceived value for shopping at online second-hand luxury fashion retailers, status-seeking motivation had no impact on perceived value for shopping at online second-hand luxury fashion retailers.', 'nr': 164, 'bookID': 0}\n",
      "--------------------------------------------------\n",
      "Rank 8: Document Index: 12573, Similarity Score: 0.42016105627245504\n",
      "Text: {'paragraph': ' .82 • I feel that I can have more things for less money by buying second-hand luxury fashion products. .82 • I feel I am paying a fair price when I purchase second-hand luxury fashion products. .50 Critical motivation .', 'nr': 297, 'bookID': 0}\n",
      "--------------------------------------------------\n",
      "Rank 9: Document Index: 12581, Similarity Score: 0.4190513094989681\n",
      "Text: {'paragraph': ' .89 • My willingness to buy a luxury fashion product from an online second-hand luxury fashion retailer is high. .89 • The probability that I would consider buying a luxury fashion product from an online second-hand luxury fashion retailer is high.', 'nr': 305, 'bookID': 0}\n",
      "--------------------------------------------------\n",
      "Rank 10: Document Index: 12420, Similarity Score: 0.4190513094989681\n",
      "Text: {'paragraph': '89•My willingness to buy a luxury fashion product from an online second-hand luxury fashion retailer is high.89•The probability that I would consider buying a luxury fashion product from an online second-hand luxury fashion retailer is high.', 'nr': 144, 'bookID': 0}\n",
      "--------------------------------------------------\n"
     ]
    }
   ],
   "source": [
    "# 示例：手动调用\n",
    "choose_and_call_function()"
   ]
  },
  {
   "cell_type": "code",
   "execution_count": 17,
   "id": "edc1a886-17f1-4001-aa9f-235df9f7d764",
   "metadata": {},
   "outputs": [
    {
     "name": "stdout",
     "output_type": "stream",
     "text": [
      "Function List: \n",
      "1. get_top_similar_texts by tfidf\n",
      "2. find_most_similar_document_with_reduction by SVD\n",
      "3. process_word2vec_model\n",
      "4. find_most_relevant_paragraph by FlagEmbedding\n"
     ]
    },
    {
     "name": "stdin",
     "output_type": "stream",
     "text": [
      "Choose a function:  find_most_similar_document_with_reduction by SVD\n",
      "query:  second-hand fashion\n"
     ]
    },
    {
     "name": "stdout",
     "output_type": "stream",
     "text": [
      "Most similar document index: 12330, Similarity: 0.9589675699513049\n",
      "Most similar document content:\n",
      "{'paragraph': 'e. hedonic motivation), and need for a unique fashion style (i.e. fashion motivation). These studies focused on non-luxury second-hand fashion products. A few studies interviewed consumers to uncover their motivations for purchasing second-hand luxury fashion products (i.', 'nr': 54, 'bookID': 0}\n"
     ]
    }
   ],
   "source": [
    "# 示例：手动调用\n",
    "choose_and_call_function()"
   ]
  },
  {
   "cell_type": "code",
   "execution_count": 18,
   "id": "11f86a39-83ce-4e41-a692-203cc7531dfd",
   "metadata": {},
   "outputs": [
    {
     "name": "stdout",
     "output_type": "stream",
     "text": [
      "Function List: \n",
      "1. get_top_similar_texts by tfidf\n",
      "2. find_most_similar_document_with_reduction by SVD\n",
      "3. process_word2vec_model\n",
      "4. find_most_relevant_paragraph by FlagEmbedding\n"
     ]
    },
    {
     "name": "stdin",
     "output_type": "stream",
     "text": [
      "Choose a function:  process_word2vec_model\n",
      "query:  second-hand fashion\n"
     ]
    },
    {
     "name": "stdout",
     "output_type": "stream",
     "text": [
      "second-hand fashion is not in the vocabulary\n"
     ]
    }
   ],
   "source": [
    "# 示例：手动调用\n",
    "choose_and_call_function()"
   ]
  },
  {
   "cell_type": "code",
   "execution_count": 19,
   "id": "6e422097-bc20-432f-bff4-1803890ddea4",
   "metadata": {},
   "outputs": [
    {
     "name": "stdout",
     "output_type": "stream",
     "text": [
      "Function List: \n",
      "1. get_top_similar_texts by tfidf\n",
      "2. find_most_similar_document_with_reduction by SVD\n",
      "3. process_word2vec_model\n",
      "4. find_most_relevant_paragraph by FlagEmbedding\n"
     ]
    },
    {
     "name": "stdin",
     "output_type": "stream",
     "text": [
      "Choose a function:  process_word2vec_model\n",
      "query:  vintage\n"
     ]
    },
    {
     "name": "stdout",
     "output_type": "stream",
     "text": [
      "Vector of 'vintage': [-0.25137377  0.21102692 -0.46034026  0.21873228  0.36378497  0.06996898\n",
      "  0.65643364  0.08505735 -0.5955887   0.24995829 -0.23649526 -0.5889536\n",
      "  0.43841967  0.00457888  0.24210204 -0.4288165   0.9232003   0.2545735\n",
      " -0.31559324 -0.15861934  0.23208387  0.3573708   0.43159503 -0.04186258\n",
      " -0.03099635  0.24054135  0.13900119  0.3509962  -0.9777212  -0.10984261\n",
      "  0.34451702 -0.3224587  -0.10536078  0.31209853 -0.7450898   0.59158534\n",
      "  0.51292616  0.14233233 -0.35750026  0.10332837  0.52152467  0.27595162\n",
      " -0.4558136   0.1613489   0.5869396   0.08930022 -0.5167108  -0.24264237\n",
      "  0.6068314  -0.07650535]\n",
      "Most similar to 'vintage': [('persian/iranian', 0.9830060601234436), ('mesopotamian', 0.9647058248519897), ('2:607', 0.9646598100662231)]\n"
     ]
    }
   ],
   "source": [
    "# 示例：手动调用\n",
    "choose_and_call_function()"
   ]
  },
  {
   "cell_type": "code",
   "execution_count": 20,
   "id": "49a29a0b-b2f0-42ad-8519-8f17f29ff065",
   "metadata": {},
   "outputs": [
    {
     "name": "stdout",
     "output_type": "stream",
     "text": [
      "Function List: \n",
      "1. get_top_similar_texts by tfidf\n",
      "2. find_most_similar_document_with_reduction by SVD\n",
      "3. process_word2vec_model\n",
      "4. find_most_relevant_paragraph by FlagEmbedding\n"
     ]
    },
    {
     "name": "stdin",
     "output_type": "stream",
     "text": [
      "Choose a function:  find_most_relevant_paragraph by FlagEmbedding\n",
      "query:  second-hand fashion\n"
     ]
    },
    {
     "name": "stderr",
     "output_type": "stream",
     "text": [
      "pre tokenize: 100%|██████████| 130/130 [00:02<00:00, 51.57it/s]\n",
      "You're using a BertTokenizerFast tokenizer. Please note that with a fast tokenizer, using the `__call__` method is faster than using a method to encode the text followed by a call to the `pad` method to get a padded encoding.\n",
      "Inference Embeddings: 100%|██████████| 130/130 [00:28<00:00,  4.64it/s]\n"
     ]
    },
    {
     "name": "stdout",
     "output_type": "stream",
     "text": [
      "Most relevant paragraph index: 12359\n",
      "Most relevant paragraph: {'paragraph': ' Guiot and Roux (2010) found that second-hand consumers value fashion authenticity and vintage uniqueness. Ferraro et al. (2016) found that fashionability plays a significant role in second-hand consumption, and consumers who are conscious about fashion view second-hand clothing as authentic and unique.', 'nr': 83, 'bookID': 0}\n"
     ]
    }
   ],
   "source": [
    "choose_and_call_function()"
   ]
  }
 ],
 "metadata": {
  "kernelspec": {
   "display_name": "Python 3 (ipykernel)",
   "language": "python",
   "name": "python3"
  },
  "language_info": {
   "codemirror_mode": {
    "name": "ipython",
    "version": 3
   },
   "file_extension": ".py",
   "mimetype": "text/x-python",
   "name": "python",
   "nbconvert_exporter": "python",
   "pygments_lexer": "ipython3",
   "version": "3.11.10"
  }
 },
 "nbformat": 4,
 "nbformat_minor": 5
}
